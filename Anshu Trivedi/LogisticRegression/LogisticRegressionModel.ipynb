{
 "cells": [
  {
   "cell_type": "code",
   "execution_count": 91,
   "metadata": {},
   "outputs": [
    {
     "data": {
      "text/html": [
       "<div>\n",
       "<style scoped>\n",
       "    .dataframe tbody tr th:only-of-type {\n",
       "        vertical-align: middle;\n",
       "    }\n",
       "\n",
       "    .dataframe tbody tr th {\n",
       "        vertical-align: top;\n",
       "    }\n",
       "\n",
       "    .dataframe thead th {\n",
       "        text-align: right;\n",
       "    }\n",
       "</style>\n",
       "<table border=\"1\" class=\"dataframe\">\n",
       "  <thead>\n",
       "    <tr style=\"text-align: right;\">\n",
       "      <th></th>\n",
       "      <th>pregnent</th>\n",
       "      <th>glucose</th>\n",
       "      <th>bp</th>\n",
       "      <th>skin</th>\n",
       "      <th>insulin</th>\n",
       "      <th>bmi</th>\n",
       "      <th>pedigree</th>\n",
       "      <th>age</th>\n",
       "      <th>label</th>\n",
       "    </tr>\n",
       "  </thead>\n",
       "  <tbody>\n",
       "    <tr>\n",
       "      <th>1</th>\n",
       "      <td>6</td>\n",
       "      <td>148</td>\n",
       "      <td>72</td>\n",
       "      <td>35</td>\n",
       "      <td>0</td>\n",
       "      <td>33.6</td>\n",
       "      <td>0.627</td>\n",
       "      <td>50</td>\n",
       "      <td>1</td>\n",
       "    </tr>\n",
       "    <tr>\n",
       "      <th>2</th>\n",
       "      <td>1</td>\n",
       "      <td>85</td>\n",
       "      <td>66</td>\n",
       "      <td>29</td>\n",
       "      <td>0</td>\n",
       "      <td>26.6</td>\n",
       "      <td>0.351</td>\n",
       "      <td>31</td>\n",
       "      <td>0</td>\n",
       "    </tr>\n",
       "    <tr>\n",
       "      <th>3</th>\n",
       "      <td>8</td>\n",
       "      <td>183</td>\n",
       "      <td>64</td>\n",
       "      <td>0</td>\n",
       "      <td>0</td>\n",
       "      <td>23.3</td>\n",
       "      <td>0.672</td>\n",
       "      <td>32</td>\n",
       "      <td>1</td>\n",
       "    </tr>\n",
       "    <tr>\n",
       "      <th>4</th>\n",
       "      <td>1</td>\n",
       "      <td>89</td>\n",
       "      <td>66</td>\n",
       "      <td>23</td>\n",
       "      <td>94</td>\n",
       "      <td>28.1</td>\n",
       "      <td>0.167</td>\n",
       "      <td>21</td>\n",
       "      <td>0</td>\n",
       "    </tr>\n",
       "    <tr>\n",
       "      <th>5</th>\n",
       "      <td>0</td>\n",
       "      <td>137</td>\n",
       "      <td>40</td>\n",
       "      <td>35</td>\n",
       "      <td>168</td>\n",
       "      <td>43.1</td>\n",
       "      <td>2.288</td>\n",
       "      <td>33</td>\n",
       "      <td>1</td>\n",
       "    </tr>\n",
       "  </tbody>\n",
       "</table>\n",
       "</div>"
      ],
      "text/plain": [
       "  pregnent glucose  bp skin insulin   bmi pedigree age label\n",
       "1        6     148  72   35       0  33.6    0.627  50     1\n",
       "2        1      85  66   29       0  26.6    0.351  31     0\n",
       "3        8     183  64    0       0  23.3    0.672  32     1\n",
       "4        1      89  66   23      94  28.1    0.167  21     0\n",
       "5        0     137  40   35     168  43.1    2.288  33     1"
      ]
     },
     "execution_count": 91,
     "metadata": {},
     "output_type": "execute_result"
    }
   ],
   "source": [
    "import pandas as pd\n",
    "col_names = ['pregnent','glucose','bp','skin','insulin','bmi','pedigree','age','label']\n",
    "# load dataset\n",
    "pima = pd.read_csv('C:/Users/user/Desktop/Data Sets/pima-indians-diabetes-database/diabetes.csv',header=None,names = col_names)\n",
    "pima=pima.iloc[1:]\n",
    "#print(pima)\n",
    "pima.head()\n"
   ]
  },
  {
   "cell_type": "markdown",
   "metadata": {},
   "source": [
    "## Selecting Features"
   ]
  },
  {
   "cell_type": "code",
   "execution_count": 92,
   "metadata": {},
   "outputs": [
    {
     "name": "stdout",
     "output_type": "stream",
     "text": [
      "    pregnent insulin   bmi age glucose  bp pedigree\n",
      "1          6       0  33.6  50     148  72    0.627\n",
      "2          1       0  26.6  31      85  66    0.351\n",
      "3          8       0  23.3  32     183  64    0.672\n",
      "4          1      94  28.1  21      89  66    0.167\n",
      "5          0     168  43.1  33     137  40    2.288\n",
      "6          5       0  25.6  30     116  74    0.201\n",
      "7          3      88    31  26      78  50    0.248\n",
      "8         10       0  35.3  29     115   0    0.134\n",
      "9          2     543  30.5  53     197  70    0.158\n",
      "10         8       0     0  54     125  96    0.232\n",
      "11         4       0  37.6  30     110  92    0.191\n",
      "12        10       0    38  34     168  74    0.537\n",
      "13        10       0  27.1  57     139  80    1.441\n",
      "14         1     846  30.1  59     189  60    0.398\n",
      "15         5     175  25.8  51     166  72    0.587\n",
      "16         7       0    30  32     100   0    0.484\n",
      "17         0     230  45.8  31     118  84    0.551\n",
      "18         7       0  29.6  31     107  74    0.254\n",
      "19         1      83  43.3  33     103  30    0.183\n",
      "20         1      96  34.6  32     115  70    0.529\n",
      "21         3     235  39.3  27     126  88    0.704\n",
      "22         8       0  35.4  50      99  84    0.388\n",
      "23         7       0  39.8  41     196  90    0.451\n",
      "24         9       0    29  29     119  80    0.263\n",
      "25        11     146  36.6  51     143  94    0.254\n",
      "26        10     115  31.1  41     125  70    0.205\n",
      "27         7       0  39.4  43     147  76    0.257\n",
      "28         1     140  23.2  22      97  66    0.487\n",
      "29        13     110  22.2  57     145  82    0.245\n",
      "30         5       0  34.1  38     117  92    0.337\n",
      "..       ...     ...   ...  ..     ...  ..      ...\n",
      "739        2     160  36.6  21      99  60    0.453\n",
      "740        1       0  39.5  42     102  74    0.293\n",
      "741       11     150  42.3  48     120  80    0.785\n",
      "742        3      94  30.8  26     102  44      0.4\n",
      "743        1     116  28.5  22     109  58    0.219\n",
      "744        9       0  32.7  45     140  94    0.734\n",
      "745       13     140  40.6  39     153  88    1.174\n",
      "746       12     105    30  46     100  84    0.488\n",
      "747        1       0  49.3  27     147  94    0.358\n",
      "748        1      57  46.3  32      81  74    1.096\n",
      "749        3     200  36.4  36     187  70    0.408\n",
      "750        6       0  24.3  50     162  62    0.178\n",
      "751        4       0  31.2  22     136  70    1.182\n",
      "752        1      74    39  28     121  78    0.261\n",
      "753        3       0    26  25     108  62    0.223\n",
      "754        0     510  43.3  26     181  88    0.222\n",
      "755        8       0  32.4  45     154  78    0.443\n",
      "756        1     110  36.5  37     128  88    1.057\n",
      "757        7       0    32  39     137  90    0.391\n",
      "758        0       0  36.3  52     123  72    0.258\n",
      "759        1       0  37.5  26     106  76    0.197\n",
      "760        6       0  35.5  66     190  92    0.278\n",
      "761        2      16  28.4  22      88  58    0.766\n",
      "762        9       0    44  43     170  74    0.403\n",
      "763        9       0  22.5  33      89  62    0.142\n",
      "764       10     180  32.9  63     101  76    0.171\n",
      "765        2       0  36.8  27     122  70     0.34\n",
      "766        5     112  26.2  30     121  72    0.245\n",
      "767        1       0  30.1  47     126  60    0.349\n",
      "768        1       0  30.4  23      93  70    0.315\n",
      "\n",
      "[768 rows x 7 columns]\n",
      "1      1\n",
      "2      0\n",
      "3      1\n",
      "4      0\n",
      "5      1\n",
      "6      0\n",
      "7      1\n",
      "8      0\n",
      "9      1\n",
      "10     1\n",
      "11     0\n",
      "12     1\n",
      "13     0\n",
      "14     1\n",
      "15     1\n",
      "16     1\n",
      "17     1\n",
      "18     1\n",
      "19     0\n",
      "20     1\n",
      "21     0\n",
      "22     0\n",
      "23     1\n",
      "24     1\n",
      "25     1\n",
      "26     1\n",
      "27     1\n",
      "28     0\n",
      "29     0\n",
      "30     0\n",
      "      ..\n",
      "739    0\n",
      "740    1\n",
      "741    1\n",
      "742    0\n",
      "743    0\n",
      "744    1\n",
      "745    0\n",
      "746    0\n",
      "747    1\n",
      "748    0\n",
      "749    1\n",
      "750    1\n",
      "751    1\n",
      "752    0\n",
      "753    0\n",
      "754    1\n",
      "755    1\n",
      "756    1\n",
      "757    0\n",
      "758    1\n",
      "759    0\n",
      "760    1\n",
      "761    0\n",
      "762    1\n",
      "763    0\n",
      "764    0\n",
      "765    0\n",
      "766    0\n",
      "767    1\n",
      "768    0\n",
      "Name: label, Length: 768, dtype: object\n"
     ]
    }
   ],
   "source": [
    "#split data set into features and target variable\n",
    "features_col = ['pregnent','insulin','bmi','age','glucose','bp','pedigree']\n",
    "X =  pima[features_col]# features\n",
    "Y = pima.label # target variable\n",
    "print(X)\n",
    "print(Y)"
   ]
  },
  {
   "cell_type": "markdown",
   "metadata": {},
   "source": [
    "## Split data into Training and Testing Set"
   ]
  },
  {
   "cell_type": "code",
   "execution_count": 93,
   "metadata": {},
   "outputs": [
    {
     "name": "stdout",
     "output_type": "stream",
     "text": [
      "    pregnent insulin   bmi age glucose  bp pedigree\n",
      "662        1       0  42.9  22     199  76    1.394\n",
      "123        2     100  33.6  23     107  74    0.404\n",
      "114        4       0    34  25      76  62    0.391\n",
      "15         5     175  25.8  51     166  72    0.587\n",
      "530        0       0  24.6  31     111  65     0.66\n",
      "104        1      40  26.6  24      81  72    0.283\n",
      "339        9     171  34.2  33     152  78    0.893\n",
      "589        3     156  33.3  52     176  86    1.154\n",
      "396        2     275  27.7  25     127  58      1.6\n",
      "205        6     190  37.7  55     103  72    0.324\n",
      "32         3     245  31.6  28     158  76    0.851\n",
      "547        5     207  43.6  53     187  76    1.034\n",
      "279        5       0  24.9  57     114  74    0.744\n",
      "594        2     115  28.5  25      82  52    1.699\n",
      "738        8       0    32  42      65  72      0.6\n",
      "203        0       0  27.3  32     108  68    0.787\n",
      "176        8     130  32.7  36     179  72    0.719\n",
      "56         1       0    23  21      73  50    0.248\n",
      "480        4       0    28  63     132  86    0.419\n",
      "366        5      83    34  30      99  54    0.499\n",
      "418        4       0  38.5  37     144  82    0.554\n",
      "578        2       0  42.9  21     118  80    0.693\n",
      "173        2       0  28.9  25      87   0    0.773\n",
      "353        3       0  34.4  46      61  82    0.243\n",
      "28         1     140  23.2  22      97  66    0.487\n",
      "606        1       0  35.8  21     124  60    0.514\n",
      "240        0       0  18.4  27     104  76    0.582\n",
      "745       13     140  40.6  39     153  88    1.174\n",
      "80         2       0    25  24     112  66    0.307\n",
      "497        5       0    26  30     110  68    0.292\n",
      "..       ...     ...   ...  ..     ...  ..      ...\n",
      "402        6       0  24.2  55     137  61    0.151\n",
      "506       10       0  33.3  38      75  82    0.263\n",
      "219        5       0    29  32      85  74    1.224\n",
      "697        3     125  29.9  31     169  74    0.268\n",
      "653        5      77  34.1  28     123  74    0.269\n",
      "206        5       0  23.9  27     111  72    0.407\n",
      "390        3      81  31.6  28     100  68    0.949\n",
      "191        3       0  22.6  21     111  62    0.142\n",
      "495        3       0     0  22      80   0    0.174\n",
      "484        0     125  38.2  23      84  82    0.233\n",
      "195        8       0  24.4  42      85  55    0.136\n",
      "485        0       0  44.2  31     145   0     0.63\n",
      "133        3     225  34.5  30     170  64    0.356\n",
      "234        4       0    35  29     122  68    0.394\n",
      "174        1      48  43.5  23      79  60    0.678\n",
      "179        5       0    45  47     143  78     0.19\n",
      "742        3      94  30.8  26     102  44      0.4\n",
      "580        2       0  34.7  62     197  70    0.575\n",
      "207        8     280  37.5  57     196  76    0.605\n",
      "442        2      50  32.2  22      83  66    0.497\n",
      "97         2       0  31.6  24      92  62     0.13\n",
      "658        1     200  38.9  41     120  80    1.162\n",
      "334       12       0  23.6  44     106  80    0.137\n",
      "750        6       0  24.3  50     162  62    0.178\n",
      "90         1       0  26.5  24     107  68    0.165\n",
      "408        0       0  21.9  25     101  62    0.336\n",
      "180        5       0  39.1  37     130  82    0.956\n",
      "1          6       0  33.6  50     148  72    0.627\n",
      "47         1       0  29.7  29     146  56    0.564\n",
      "172        6     130  35.4  29     134  70    0.542\n",
      "\n",
      "[308 rows x 7 columns]\n"
     ]
    }
   ],
   "source": [
    "# split X and Y into training and testing set\n",
    "import sklearn as sn\n",
    "from sklearn.model_selection import train_test_split\n",
    "X_train,X_test,Y_train,Y_test=train_test_split(X,Y,test_size=0.4,random_state=0)\n",
    "print(X_test)"
   ]
  },
  {
   "cell_type": "markdown",
   "metadata": {},
   "source": [
    "## model developement and prediction"
   ]
  },
  {
   "cell_type": "code",
   "execution_count": 94,
   "metadata": {},
   "outputs": [
    {
     "name": "stdout",
     "output_type": "stream",
     "text": [
      "['1' '0' '0' '1' '0' '0' '1' '1' '0' '0' '1' '1' '0' '0' '0' '0' '1' '0'\n",
      " '0' '0' '1' '0' '0' '0' '0' '0' '0' '1' '0' '0' '0' '0' '0' '0' '0' '1'\n",
      " '0' '0' '0' '1' '0' '0' '0' '1' '1' '0' '0' '0' '0' '0' '0' '0' '1' '0'\n",
      " '0' '0' '0' '0' '0' '0' '1' '0' '0' '1' '1' '1' '1' '0' '0' '0' '0' '1'\n",
      " '0' '1' '1' '0' '0' '1' '0' '0' '0' '0' '0' '0' '0' '0' '0' '0' '1' '0'\n",
      " '0' '0' '0' '0' '1' '0' '0' '0' '1' '0' '0' '0' '0' '0' '1' '0' '0' '0'\n",
      " '0' '1' '0' '0' '1' '0' '1' '1' '0' '1' '0' '1' '0' '0' '0' '0' '0' '0'\n",
      " '0' '0' '0' '0' '0' '0' '0' '1' '0' '0' '0' '0' '1' '0' '0' '1' '0' '0'\n",
      " '0' '0' '0' '0' '0' '0' '0' '1' '0' '0' '1' '0' '1' '0' '1' '1' '1' '1'\n",
      " '0' '0' '1' '0' '0' '0' '0' '0' '0' '0' '0' '0' '0' '0' '0' '0' '0' '0'\n",
      " '0' '1' '0' '1' '0' '0' '1' '0' '0' '0' '0' '0' '0' '0' '0' '1' '1' '1'\n",
      " '0' '0' '0' '0' '0' '0' '0' '0' '0' '0' '0' '0' '0' '0' '0' '0' '0' '0'\n",
      " '0' '0' '0' '0' '0' '0' '0' '1' '0' '1' '0' '0' '0' '0' '0' '0' '0' '0'\n",
      " '1' '0' '0' '1' '0' '1' '0' '1' '0' '0' '0' '0' '0' '1' '0' '0' '0' '1'\n",
      " '0' '0' '0' '1' '0' '0' '0' '0' '0' '0' '0' '0' '1' '0' '1' '1' '0' '0'\n",
      " '0' '0' '0' '1' '0' '0' '0' '0' '0' '0' '0' '1' '0' '0' '0' '0' '0' '0'\n",
      " '0' '1' '1' '0' '0' '1' '0' '1' '1' '0' '0' '0' '0' '1' '0' '0' '1' '1'\n",
      " '0' '0']\n"
     ]
    },
    {
     "name": "stderr",
     "output_type": "stream",
     "text": [
      "C:\\Users\\user\\Anaconda3\\lib\\site-packages\\sklearn\\linear_model\\logistic.py:433: FutureWarning: Default solver will be changed to 'lbfgs' in 0.22. Specify a solver to silence this warning.\n",
      "  FutureWarning)\n"
     ]
    }
   ],
   "source": [
    "from sklearn.linear_model import LogisticRegression\n",
    "#instantaniate the model\n",
    "logreg = LogisticRegression()\n",
    "# fit the model with data\n",
    "logreg.fit(X_train,Y_train)\n",
    "Y_pred=logreg.predict(X_test)\n",
    "print(Y_pred)"
   ]
  },
  {
   "cell_type": "markdown",
   "metadata": {},
   "source": [
    "## Model evaluation using confusion matrix"
   ]
  },
  {
   "cell_type": "code",
   "execution_count": 100,
   "metadata": {},
   "outputs": [
    {
     "data": {
      "text/plain": [
       "array([[189,  16],\n",
       "       [ 47,  56]], dtype=int64)"
      ]
     },
     "execution_count": 100,
     "metadata": {},
     "output_type": "execute_result"
    }
   ],
   "source": [
    "from sklearn import metrics\n",
    "cnf_matrix=metrics.confusion_matrix(Y_test,Y_pred)\n",
    "cnf_matrix"
   ]
  },
  {
   "cell_type": "markdown",
   "metadata": {},
   "source": [
    "## Visualizing Confusion Matrix using Heatmap"
   ]
  },
  {
   "cell_type": "code",
   "execution_count": 102,
   "metadata": {},
   "outputs": [],
   "source": [
    "import numpy as np\n",
    "import matplotlib.pyplot as plt\n",
    "import seaborn as sns"
   ]
  },
  {
   "cell_type": "code",
   "execution_count": 104,
   "metadata": {},
   "outputs": [
    {
     "data": {
      "text/plain": [
       "Text(0.5, 257.44, 'Predicted label')"
      ]
     },
     "execution_count": 104,
     "metadata": {},
     "output_type": "execute_result"
    },
    {
     "data": {
      "image/png": "[encoded data removed]",
      "text/plain": [
       "<Figure size 432x288 with 2 Axes>"
      ]
     },
     "metadata": {
      "needs_background": "light"
     },
     "output_type": "display_data"
    }
   ],
   "source": [
    "class_names=[0,1] # name  of classes\n",
    "fig, ax = plt.subplots()\n",
    "tick_marks = np.arange(len(class_names))\n",
    "plt.xticks(tick_marks, class_names)\n",
    "plt.yticks(tick_marks, class_names)\n",
    "# create heatmap\n",
    "sns.heatmap(pd.DataFrame(cnf_matrix), annot=True, cmap=\"YlGnBu\" ,fmt='g')\n",
    "ax.xaxis.set_label_position(\"top\")\n",
    "plt.tight_layout()\n",
    "plt.title('Confusion matrix', y=1.1)\n",
    "plt.ylabel('Actual label')\n",
    "plt.xlabel('Predicted label')"
   ]
  },
  {
   "cell_type": "code",
   "execution_count": 108,
   "metadata": {},
   "outputs": [
    {
     "name": "stdout",
     "output_type": "stream",
     "text": [
      "Accuracy: 0.7954545454545454\n"
     ]
    }
   ],
   "source": [
    "print(\"Accuracy:\",metrics.accuracy_score(Y_test, Y_pred))\n",
    "#print(\"Precision:\",metrics.precision_score(Y_test, Y_pred))\n",
    "#print(\"Recall:\",metrics.recall_score(Y_test, Y_pred))"
   ]
  },
  {
   "cell_type": "code",
   "execution_count": null,
   "metadata": {},
   "outputs": [],
   "source": []
  }
 ],
 "metadata": {
  "kernelspec": {
   "display_name": "Python 3",
   "language": "python",
   "name": "python3"
  },
  "language_info": {
   "codemirror_mode": {
    "name": "ipython",
    "version": 3
   },
   "file_extension": ".py",
   "mimetype": "text/x-python",
   "name": "python",
   "nbconvert_exporter": "python",
   "pygments_lexer": "ipython3",
   "version": "3.7.3"
  }
 },
 "nbformat": 4,
 "nbformat_minor": 2
}
